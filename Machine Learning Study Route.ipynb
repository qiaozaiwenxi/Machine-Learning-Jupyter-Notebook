{
 "cells": [
  {
   "cell_type": "markdown",
   "id": "42b84eed",
   "metadata": {},
   "source": [
    "# 📚 Machine Learning with Pytorch and Scikit-learn - Study Plan 🗓️\n",
    "\n",
    "|   | 📘 Chapter | 🗝️ Key Points | 🗓️ Study End Date | 🔄 Review Date | ✅ Completed |\n",
    "|:-:|:--|:--|:--|:--|:--|\n",
    "| 1️⃣ | Giving Computers the Ability to Learn from Data | Introduction to the main subareas of machine learning and the pipeline of creating a machine learning model. | `2023-07-11` | `2023-07-18` | [x] |\n",
    "| 2️⃣ | Training Simple Machine Learning Algorithms for Classification | Binary perceptron classifiers and adaptive linear neurons. | `2023-07-15` | `2023-07-29` | [x] |\n",
    "| 3️⃣ | A Tour of Machine Learning Classifiers Using Scikit-Learn | Essential ML algorithms for classification. | `2023-08-12` | `2023-08-19` | [ ] |\n",
    "| 4️⃣ | Building Good Training Datasets – Data Preprocessing | Dealing with missing data and identifying informative features. | `2023-08-26` | `2023-09-02` | [ ] |\n",
    "| 💡 | **Review** | Recap Ch 1-4 | `2023-09-09` | -- | [ ] |\n",
    "| 5️⃣ | Compressing Data via Dimensionality Reduction | Techniques to reduce the number of features in a dataset. | `2023-09-23` | `2023-09-30` | [ ] |\n",
    "| 6️⃣ | Learning Best Practices for Model Evaluation and Hyperparameter Tuning | Estimating the performances of predictive models, fine-tuning techniques. | `2023-10-07` | `2023-10-14` | [ ] |\n",
    "| 7️⃣ | Combining Different Models for Ensemble Learning | Building ensembles of experts to overcome individual learners' weaknesses. | `2023-10-21` | `2023-10-28` | [ ] |\n",
    "| 8️⃣ | Applying Machine Learning to Sentiment Analysis | Transforming textual data into meaningful representations for ML. | `2023-11-04` | `2023-11-11` | [ ] |\n",
    "| 💡 | **Review** | Recap Ch 5-8 | `2023-11-18` | -- | [ ] |\n",
    "| 9️⃣ | Predicting Continuous Target Variables with Regression Analysis | Modeling linear relationships between target and response variables. | `2023-12-02` | `2023-12-09` | [ ] |\n",
    "| 🔟 | Working with Unlabeled Data – Clustering Analysis | Applying fundamental families of clustering algorithms. | `2023-12-16` | `2023-12-23` | [ ] |\n",
    "| 1️⃣1️⃣ | Implementing a Multilayer Artificial Neural Network from Scratch | Building multilayer neural networks based on the backpropagation algorithm. | `2023-12-30` | `2024-01-06` | [ ] |\n",
    "| 1️⃣2️⃣ | Parallelizing Neural Network Training with PyTorch | Training neural networks more efficiently using PyTorch. | `2024-01-13` | `2024-01-20` | [ ] |\n",
    "| 💡 | **Review** | Recap Ch 9-12 | `2024-01-27` | -- | [ ] |\n",
    "| 1️⃣3️⃣ | Going Deeper – The Mechanics of PyTorch | Advanced concepts and functionality of PyTorch. | `2024-02-10` | `2024-02-17` | [ ] |\n",
    "| 1️⃣4️⃣ | Classifying Images with Deep Convolutional Neural Networks | CNNs and their superior performance in image recognition tasks. | `2024-02-24` | `2024-03-02` | [ ] |\n",
    "| 1️⃣5️⃣ | Modeling Sequential Data Using Recurrent Neural Networks | RNNs and their use in processing sequential data and time-series data. | `2024-03-09` | `2024-03-16` | [ ] |\n",
    "| 1️⃣6️⃣ | Transformers – Improving Natural Language Processing with Attention Mechanisms | Attention mechanisms and transformer architectures for NLP. | `2024-03-23` | `2024-03-30` | [ ] |\n",
    "| 💡 | **Review** | Recap Ch 13-16 | `2024-04-06` | -- | [ ] |\n",
    "| 1️⃣7️⃣ | Generative Adversarial Networks for Synthesizing New Data | GANs and their use for generating new, realistic-looking images. | `2024-04-20` | `2024-04-27` | [ ] |\n",
    "| 1️⃣8️⃣ | Graph Neural Networks for Capturing Dependencies in Graph Structured Data | Graph neural networks and their application on graph-structured data. | `2024-05-04` | `2024-05-11` | [ ] |\n",
    "| 1️⃣9️⃣ | Reinforcement Learning for Decision Making in Complex Environments | Basics of reinforcement learning and implementation of RL agents. | `2024-05-18` | `2024-05-25` | [ ] |\n",
    "| 💡 | **Review** | Recap Ch 17-19 | `2024-06-01` | -- | [ ] |\n",
    "| ✅ | **Final Review** | Complete Recap Ch 1-19 | `2024-06-15` | -- | [ ] |\n",
    "| 🎯 | **Wrap up and Plan Next Steps** | -- | `2024-07-15` | -- | [ ] |\n"
   ]
  },
  {
   "cell_type": "code",
   "execution_count": null,
   "id": "29bca6de",
   "metadata": {},
   "outputs": [],
   "source": []
  }
 ],
 "metadata": {
  "kernelspec": {
   "display_name": "Python 3 (ipykernel)",
   "language": "python",
   "name": "python3"
  },
  "language_info": {
   "codemirror_mode": {
    "name": "ipython",
    "version": 3
   },
   "file_extension": ".py",
   "mimetype": "text/x-python",
   "name": "python",
   "nbconvert_exporter": "python",
   "pygments_lexer": "ipython3",
   "version": "3.9.12"
  },
  "toc": {
   "base_numbering": 1,
   "nav_menu": {},
   "number_sections": true,
   "sideBar": true,
   "skip_h1_title": false,
   "title_cell": "Table of Contents",
   "title_sidebar": "Contents",
   "toc_cell": false,
   "toc_position": {},
   "toc_section_display": true,
   "toc_window_display": false
  }
 },
 "nbformat": 4,
 "nbformat_minor": 5
}
